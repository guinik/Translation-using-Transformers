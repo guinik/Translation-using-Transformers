{
 "cells": [
  {
   "cell_type": "code",
   "execution_count": 30,
   "id": "3cc658c2",
   "metadata": {},
   "outputs": [],
   "source": [
    "%run Trained.ipynb\n",
    "import random\n"
   ]
  },
  {
   "cell_type": "markdown",
   "id": "49e14c8d",
   "metadata": {},
   "source": [
    "This notebook is specifically to play around with the translator. We will create a class that chooses some random inputs and we can see its effectiveness.\n"
   ]
  },
  {
   "cell_type": "code",
   "execution_count": 38,
   "id": "6ac5e125",
   "metadata": {},
   "outputs": [],
   "source": [
    "class RandomTranslation():\n",
    "    def __init__(self):\n",
    "        self.embed=Embedding()\n",
    "        self.transformer = Transformer(\n",
    "            num_layers=layersnum,\n",
    "            d_model=modeldim,\n",
    "            num_heads=num_heads,\n",
    "            dff=dff,\n",
    "            input_vocab_size=5000,\n",
    "            target_vocab_size=5000,\n",
    "            pe_input=1000,\n",
    "            pe_target=1000,\n",
    "            rate=dropout_rate)\n",
    "        self.data=Data()\n",
    "        print('Please call the object with the num of examples desired')\n",
    "        self.translator=Translator(self.embed,self.transformer)\n",
    "    def __call__(self, totalnum):\n",
    "        for i in range(totalnum):\n",
    "            randomnum=random.randint(0,20000)\n",
    "            sentence=self.data.es[randomnum]\n",
    "            ground_truth=self.data.pt[randomnum]\n",
    "            translated_text, attention_weights = self.translator((sentence))\n",
    "            print(f'{\"Example number\":15s}:{i} ')\n",
    "            print(f'{\"Input:\":15s}: {sentence}')\n",
    "            print(f'{\"Prediction\":15s}: {translated_text}')\n",
    "            print(f'{\"Ground truth\":15s}: {ground_truth}')\n",
    "            print(' ')\n",
    "    "
   ]
  },
  {
   "cell_type": "code",
   "execution_count": 39,
   "id": "74007e9d",
   "metadata": {},
   "outputs": [
    {
     "name": "stdout",
     "output_type": "stream",
     "text": [
      "Please call the object with the num of examples desired\n"
     ]
    }
   ],
   "source": [
    "Examples=RandomTranslation()"
   ]
  },
  {
   "cell_type": "code",
   "execution_count": 40,
   "id": "ce9701e9",
   "metadata": {},
   "outputs": [
    {
     "name": "stdout",
     "output_type": "stream",
     "text": [
      "Example number :0 \n",
      "Input:         : por ejemplo , les dije que los virus tienen adn .\n",
      "Prediction     :  por exemplo , eu disse que os vírus têm adn . \n",
      "Ground truth   : por exemplo , eu disse-vos que os vírus têm adn .\n",
      " \n",
      "Example number :1 \n",
      "Input:         : representan a israel y palestina a india y pakistán .\n",
      "Prediction     :  representam israel e palestina à índia e paquistão . \n",
      "Ground truth   : estão a brincar aos israelitas e palestinianos , aos indianos e paquistaneses .\n",
      " \n",
      "Example number :2 \n",
      "Input:         : y le ayudamos a construir una compañía , orientada al rendimiento , que se constituiría basada en el conocimiento de ide y que empezara a buscar ventas y exportaciones , y fuera capaz de conseguir otros tipos de capital .\n",
      "Prediction     :  e nós nós nós recémos a construir uma empresa , orientação , que se constituiu baseada no conhecimento de ide e que começar a procurar vendas e exponencialmente , e eu poderia ter de capital . \n",
      "Ground truth   : e nós ajudámo-lo a desenvolver uma empresa , para o lucro , que iria desenvolver o conhecimento da ide , e começar a olhar para importações e exportações , e a ser capaz de beneficiar de outros tipos de capital .\n",
      " \n",
      "Example number :3 \n",
      "Input:         : ¿y a quién engaño cuando digo casi ?\n",
      "Prediction     :  e quem é que eu digo quase tudo ? \n",
      "Ground truth   : `` e quem estou a tentar enganar quando digo `` '' quase '' '' ? ''\n",
      " \n",
      "Example number :4 \n",
      "Input:         : y nosotros debíamos ir y hablar con ellos , usualmente por una semana .\n",
      "Prediction     :  e nós tínhamos de ir e falar com eles , ou por uma semana . \n",
      "Ground truth   : nós chegávamos e conversávamos com eles durante uma semana .\n",
      " \n",
      "Example number :5 \n",
      "Input:         : porque no es fácil desprenderse de 5 dólares .\n",
      "Prediction     :  porque não é fácil de se tornar de 5 dólares . \n",
      "Ground truth   : porque não é fácil despachar cinco dólares .\n",
      " \n",
      "Example number :6 \n",
      "Input:         : es un gran recipiente lleno de pequeñas bombas .\n",
      "Prediction     :  é um grande recipiente cheio de pequenas bombas . \n",
      "Ground truth   : é um grande recipiente cheio de pequenas bombas .\n",
      " \n",
      "Example number :7 \n",
      "Input:         : la escuela verde es un lugar para pioneros , locales y globales .\n",
      "Prediction     :  a escola ecológica é um lugar para pioneiros locais , locais e globais . \n",
      "Ground truth   : a escola ecológica é um sítio de pioneiros . locais e globais .\n",
      " \n",
      "Example number :8 \n",
      "Input:         : las empresas incluso pueden dar control a los piratas informáticos .\n",
      "Prediction     :  as empresas podem dar controlo aos piratas informáticos . \n",
      "Ground truth   : as empresas podem até dar controlo aos hackers .\n",
      " \n",
      "Example number :9 \n",
      "Input:         : gracias .\n",
      "Prediction     :  obrigado . \n",
      "Ground truth   : obrigada .\n",
      " \n"
     ]
    }
   ],
   "source": [
    "Examples(10)"
   ]
  },
  {
   "cell_type": "code",
   "execution_count": null,
   "id": "2891b996",
   "metadata": {},
   "outputs": [],
   "source": []
  }
 ],
 "metadata": {
  "kernelspec": {
   "display_name": "Python 3 (ipykernel)",
   "language": "python",
   "name": "python3"
  },
  "language_info": {
   "codemirror_mode": {
    "name": "ipython",
    "version": 3
   },
   "file_extension": ".py",
   "mimetype": "text/x-python",
   "name": "python",
   "nbconvert_exporter": "python",
   "pygments_lexer": "ipython3",
   "version": "3.9.13"
  }
 },
 "nbformat": 4,
 "nbformat_minor": 5
}
