{
 "cells": [
  {
   "cell_type": "code",
   "execution_count": 1,
   "metadata": {},
   "outputs": [],
   "source": [
    "%run DataandTokenizer.ipynb\n",
    "%run Transformer.ipynb\n",
    "import time"
   ]
  },
  {
   "cell_type": "markdown",
   "metadata": {},
   "source": [
    "# Now that everything is set up all thats left is to train the model\n"
   ]
  },
  {
   "cell_type": "code",
   "execution_count": 2,
   "metadata": {},
   "outputs": [],
   "source": [
    "#This are the parameters that define our transformers\n",
    "layersnum = 4\n",
    "modeldim = 128\n",
    "dff = 512 #<- this is for the RELu layers between layers\n",
    "num_heads = 4 \n",
    "dropout_rate = 0.1"
   ]
  },
  {
   "cell_type": "markdown",
   "metadata": {},
   "source": [
    "To fully complete whats described in the paper we will use the same variable learning rate and learning rate. This can be also found on the tensorflow post"
   ]
  },
  {
   "cell_type": "code",
   "execution_count": 3,
   "metadata": {},
   "outputs": [],
   "source": [
    "class CustomSchedule(tf.keras.optimizers.schedules.LearningRateSchedule):\n",
    "    def __init__(self, d_model, warmup_steps=4000):\n",
    "        super(CustomSchedule, self).__init__()\n",
    "\n",
    "        self.d_model = modeldim\n",
    "        self.d_model = tf.cast(self.d_model, tf.float32)\n",
    "\n",
    "        self.warmup_steps = warmup_steps\n",
    "\n",
    "    def __call__(self, step):\n",
    "        arg1 = tf.math.rsqrt(step)\n",
    "        arg2 = step * (self.warmup_steps ** -1.5)\n",
    "\n",
    "        return tf.math.rsqrt(self.d_model) * tf.math.minimum(arg1, arg2)\n",
    "    \n",
    "    "
   ]
  },
  {
   "cell_type": "code",
   "execution_count": 36,
   "metadata": {},
   "outputs": [],
   "source": [
    "#learning_rate = CustomSchedule(modeldim)\n",
    "\n",
    "optimizer = tf.keras.optimizers.Adam(learning_rate=1e-2, beta_1=0.9, beta_2=0.98,\n",
    "                                     epsilon=1e-9)"
   ]
  },
  {
   "cell_type": "markdown",
   "metadata": {},
   "source": [
    "Also since our target will have padding we need to apply a transformation to the loss function"
   ]
  },
  {
   "cell_type": "code",
   "execution_count": 37,
   "metadata": {},
   "outputs": [],
   "source": [
    "loss_object = tf.keras.losses.SparseCategoricalCrossentropy(\n",
    "    from_logits=True, reduction='none')\n",
    "\n",
    "\n",
    "def loss_function(real, pred):\n",
    "    mask = tf.math.logical_not(tf.math.equal(real, 0))\n",
    "    loss_ = loss_object(real, pred) #we calculate the loss first \n",
    "\n",
    "    mask = tf.cast(mask, dtype=loss_.dtype) #if a False, means it was zero , which means it was padding\n",
    "    #and padding shouldnt account for the loss so when multiplying its not counted.\n",
    "    loss_ *= mask#we apply the mask to it\n",
    "\n",
    "    return tf.reduce_sum(loss_)/tf.reduce_sum(mask)#sum all loses over the length of the tensor of mask\n",
    "\n",
    "\n",
    "def accuracy_function(real, pred):\n",
    "    accuracies = tf.equal(real, tf.argmax(pred, axis=2))\n",
    "    mask = tf.math.logical_not(tf.math.equal(real, 0))\n",
    "    accuracies = tf.math.logical_and(mask, accuracies)\n",
    "    accuracies = tf.cast(accuracies, dtype=tf.float32)\n",
    "    mask = tf.cast(mask, dtype=tf.float32)\n",
    "    return tf.reduce_sum(accuracies)/tf.reduce_sum(mask)\n",
    "    #its exactly the same thought but checking if its accurate or not \n",
    "    #get when its padding and then not acount it \n",
    "    \n",
    "train_loss = tf.keras.metrics.Mean(name='train_loss')\n",
    "train_accuracy = tf.keras.metrics.Mean(name='train_accuracy')"
   ]
  },
  {
   "cell_type": "code",
   "execution_count": 38,
   "metadata": {},
   "outputs": [],
   "source": [
    "Embed=Embedding()\n",
    "datos=Data()\n",
    "tokenizers=Tokenizer()\n",
    "\n",
    "def tokenize_pairs(es,pt):\n",
    "    data2=[]\n",
    "    data2.append(es)\n",
    "    data2.append(pt)\n",
    "    pt = Embed.tokenize(data2)[1]\n",
    "    # Convert from ragged to dense, padding with zeros.\n",
    "    es=Embed.tokenize(data2)[0]\n",
    "    # Convert from ragged to dense, padding with zeros.\n",
    "    return es,pt\n",
    "\n",
    "maxnum=2\n",
    "transformer = Transformer(\n",
    "    num_layers=layersnum,\n",
    "    d_model=modeldim,\n",
    "    num_heads=num_heads,\n",
    "    dff=dff,\n",
    "    input_vocab_size=5000,\n",
    "    target_vocab_size=5000,\n",
    "    pe_input=1000,\n",
    "    pe_target=1000,\n",
    "    rate=dropout_rate)\n"
   ]
  },
  {
   "cell_type": "code",
   "execution_count": 39,
   "metadata": {},
   "outputs": [
    {
     "ename": "NameError",
     "evalue": "name 'shape2' is not defined",
     "output_type": "error",
     "traceback": [
      "\u001b[1;31m---------------------------------------------------------------------------\u001b[0m",
      "\u001b[1;31mNameError\u001b[0m                                 Traceback (most recent call last)",
      "\u001b[1;32m~\\AppData\\Local\\Temp\\ipykernel_8972\\1320250318.py\u001b[0m in \u001b[0;36m<module>\u001b[1;34m\u001b[0m\n\u001b[1;32m----> 1\u001b[1;33m \u001b[0mprint\u001b[0m\u001b[1;33m(\u001b[0m\u001b[0mshape2\u001b[0m\u001b[1;33m)\u001b[0m\u001b[1;33m\u001b[0m\u001b[1;33m\u001b[0m\u001b[0m\n\u001b[0m\u001b[0;32m      2\u001b[0m \u001b[0mprint\u001b[0m\u001b[1;33m(\u001b[0m\u001b[0mshape1\u001b[0m\u001b[1;33m)\u001b[0m\u001b[1;33m\u001b[0m\u001b[1;33m\u001b[0m\u001b[0m\n",
      "\u001b[1;31mNameError\u001b[0m: name 'shape2' is not defined"
     ]
    }
   ],
   "source": [
    "\n",
    "print(shape2)\n",
    "print(shape1)"
   ]
  },
  {
   "cell_type": "code",
   "execution_count": 40,
   "metadata": {},
   "outputs": [
    {
     "name": "stdout",
     "output_type": "stream",
     "text": [
      "Latest checkpoint restored!!\n"
     ]
    }
   ],
   "source": [
    "checkpoint_path = \"./checkpoints/train\"\n",
    "\n",
    "ckpt = tf.train.Checkpoint(transformer=transformer,\n",
    "                           optimizer=optimizer)\n",
    "\n",
    "ckpt_manager = tf.train.CheckpointManager(ckpt, checkpoint_path, max_to_keep=5)\n",
    "\n",
    "# if a checkpoint exists, restore the latest checkpoint.\n",
    "if ckpt_manager.latest_checkpoint:\n",
    "    ckpt.restore(ckpt_manager.latest_checkpoint)\n",
    "    print('Latest checkpoint restored!!')"
   ]
  },
  {
   "cell_type": "code",
   "execution_count": 41,
   "metadata": {},
   "outputs": [],
   "source": [
    "\n",
    "\n",
    "# The @tf.function trace-compiles train_step into a TF graph for faster\n",
    "# execution. The function specializes to the precise shape of the argument\n",
    "# tensors. To avoid re-tracing due to the variable sequence lengths or variable\n",
    "# batch sizes (the last batch is smaller), use input_signature to specify\n",
    "# more generic shapes.\n",
    "\n",
    "\n",
    "BUFFER_SIZE = 20000\n",
    "\n",
    "BATCH_SIZE = 20\n",
    "def train_step(inp, tar):\n",
    "    tar_inp = tar[:,:-1]#(batch,tar_seq_len)\n",
    "    tar_real = tar[:,1:]\n",
    "\n",
    "    with tf.GradientTape() as tape:\n",
    "        predictions, _ = transformer([inp, tar_inp],\n",
    "                                 training = True)\n",
    "        loss = loss_function(tar_real, predictions)\n",
    "    gradients = tape.gradient(loss, transformer.trainable_variables)\n",
    "    optimizer.apply_gradients(zip(gradients, transformer.trainable_variables))\n",
    "    train_loss(loss)\n",
    "    train_accuracy(accuracy_function(tar_real, predictions))\n",
    "\n",
    "    \n",
    "    #STUFF\n",
    "examples, metadata = tfds.load('ted_hrlr_translate/es_to_pt', with_info=True,\n",
    "                               as_supervised=True)\n",
    "\n",
    "\n",
    "def make_batches(ds):\n",
    "    return (\n",
    "      ds\n",
    "      .cache()\n",
    "      .shuffle(BUFFER_SIZE)\n",
    "      .batch(BATCH_SIZE)\n",
    "      .map(tokenize_pairs, num_parallel_calls=tf.data.AUTOTUNE)\n",
    "      .prefetch(tf.data.AUTOTUNE))\n",
    "    \n",
    "    \n",
    "train_examples, val_examples = examples['train'], examples['validation']\n",
    "train_batches = make_batches(train_examples)\n",
    "val_batches = make_batches(val_examples) \n",
    "    \n",
    "    \n",
    "    \n",
    "    "
   ]
  },
  {
   "cell_type": "code",
   "execution_count": 42,
   "metadata": {},
   "outputs": [],
   "source": [
    "train_examples, val_examples = examples['train'], examples['validation']\n",
    "train_batches=make_batches(train_examples)\n"
   ]
  },
  {
   "cell_type": "code",
   "execution_count": null,
   "metadata": {},
   "outputs": [],
   "source": []
  },
  {
   "cell_type": "code",
   "execution_count": null,
   "metadata": {
    "scrolled": true
   },
   "outputs": [
    {
     "name": "stdout",
     "output_type": "stream",
     "text": [
      "Latest checkpoint restored!!\n",
      "Epoch 1 Batch 0 Loss 5.1455 Accuracy 0.1575\n",
      "Saving checkpoint for epoch 1 and for Batch 0 at ./checkpoints/train\\ckpt-22\n",
      "Epoch 1 Batch 50 Loss 5.7448 Accuracy 0.1252\n",
      "Epoch 1 Batch 100 Loss 6.0407 Accuracy 0.0993\n",
      "Epoch 1 Batch 150 Loss 6.1239 Accuracy 0.0901\n",
      "Epoch 1 Batch 200 Loss 6.1534 Accuracy 0.0871\n",
      "Epoch 1 Batch 250 Loss 6.1767 Accuracy 0.0852\n",
      "Epoch 1 Batch 300 Loss 6.1938 Accuracy 0.0845\n",
      "Epoch 1 Batch 350 Loss 6.2027 Accuracy 0.0839\n",
      "Epoch 1 Batch 400 Loss 6.2093 Accuracy 0.0835\n",
      "Epoch 1 Batch 450 Loss 6.2207 Accuracy 0.0807\n",
      "Epoch 1 Batch 500 Loss 6.2298 Accuracy 0.0781\n",
      "Saving checkpoint for epoch 1 and for Batch 500 at ./checkpoints/train\\ckpt-23\n",
      "Epoch 1 Batch 550 Loss 6.2337 Accuracy 0.0761\n",
      "Epoch 1 Batch 600 Loss 6.2403 Accuracy 0.0744\n",
      "Epoch 1 Batch 650 Loss 6.2444 Accuracy 0.0729\n",
      "Epoch 1 Batch 700 Loss 6.2473 Accuracy 0.0717\n",
      "Epoch 1 Batch 750 Loss 6.2495 Accuracy 0.0707\n",
      "Epoch 1 Batch 800 Loss 6.2520 Accuracy 0.0699\n",
      "Epoch 1 Batch 850 Loss 6.2543 Accuracy 0.0693\n",
      "Epoch 1 Batch 900 Loss 6.2548 Accuracy 0.0688\n",
      "Epoch 1 Batch 950 Loss 6.2553 Accuracy 0.0683\n",
      "Epoch 1 Batch 1000 Loss 6.2557 Accuracy 0.0678\n",
      "Saving checkpoint for epoch 1 and for Batch 1000 at ./checkpoints/train\\ckpt-24\n",
      "Epoch 1 Batch 1050 Loss 6.2570 Accuracy 0.0672\n",
      "Epoch 1 Batch 1100 Loss 6.2576 Accuracy 0.0669\n",
      "Epoch 1 Batch 1150 Loss 6.2577 Accuracy 0.0666\n",
      "Epoch 1 Batch 1200 Loss 6.2572 Accuracy 0.0663\n",
      "Epoch 1 Batch 1250 Loss 6.2578 Accuracy 0.0660\n",
      "Epoch 1 Batch 1300 Loss 6.2590 Accuracy 0.0658\n",
      "Epoch 1 Batch 1350 Loss 6.2598 Accuracy 0.0656\n",
      "Epoch 1 Batch 1400 Loss 6.2609 Accuracy 0.0655\n",
      "Epoch 1 Batch 1450 Loss 6.2599 Accuracy 0.0654\n",
      "Epoch 1 Batch 1500 Loss 6.2589 Accuracy 0.0654\n",
      "Saving checkpoint for epoch 1 and for Batch 1500 at ./checkpoints/train\\ckpt-25\n",
      "Epoch 1 Batch 1550 Loss 6.2587 Accuracy 0.0653\n",
      "Epoch 1 Batch 1600 Loss 6.2572 Accuracy 0.0653\n"
     ]
    }
   ],
   "source": [
    "EPOCHS=10\n",
    "\n",
    "for epoch in range(EPOCHS):\n",
    "    start = time.time()\n",
    "    checkpoint_path = \"./checkpoints/train\"\n",
    "\n",
    "    ckpt = tf.train.Checkpoint(transformer=transformer,\n",
    "                           optimizer=optimizer)\n",
    "\n",
    "    ckpt_manager = tf.train.CheckpointManager(ckpt, checkpoint_path, max_to_keep=5)\n",
    "\n",
    "    if ckpt_manager.latest_checkpoint:\n",
    "        ckpt.restore(ckpt_manager.latest_checkpoint)\n",
    "        print('Latest checkpoint restored!!')\n",
    "    train_loss.reset_states()\n",
    "    train_accuracy.reset_states()\n",
    "    for (batch, (inp, tar)) in enumerate(train_batches):\n",
    "        train_step(inp, tar)\n",
    "\n",
    "    \n",
    "        if batch % 50 == 0:\n",
    "            print(f'Epoch {epoch + 1} Batch {batch} Loss {train_loss.result():.4f} Accuracy {train_accuracy.result():.4f}')\n",
    "\n",
    "        if batch % 500 == 0:\n",
    "            ckpt_save_path = ckpt_manager.save()\n",
    "            print(f'Saving checkpoint for epoch {epoch+1} and for Batch {batch} at {ckpt_save_path}')\n",
    "\n",
    "    if (epoch + 1) % 1 == 0:\n",
    "        ckpt_save_path = ckpt_manager.save()\n",
    "        print(f'Saving checkpoint for epoch {epoch+1} at {ckpt_save_path}')\n",
    "\n",
    "        print(f'Epoch {epoch + 1} Loss {train_loss.result():.4f} Accuracy {train_accuracy.result():.4f}')\n",
    "\n",
    "        print(f'Time taken for 1 epoch: {time.time() - start:.2f} secs\\n')"
   ]
  },
  {
   "cell_type": "code",
   "execution_count": 21,
   "metadata": {},
   "outputs": [
    {
     "name": "stdout",
     "output_type": "stream",
     "text": [
      "Num GPUs Available:  0\n"
     ]
    }
   ],
   "source": [
    "print(\"Num GPUs Available: \", len(tf.config.list_physical_devices('GPU')))"
   ]
  },
  {
   "cell_type": "code",
   "execution_count": 12,
   "metadata": {},
   "outputs": [],
   "source": [
    "class Translator(tf.Module):\n",
    "    def __init__(self, embed, transformer):\n",
    "        self.embed = embed\n",
    "        self.transformer = transformer\n",
    "        checkpoint_path = \"./checkpoints/train\"\n",
    "\n",
    "        ckpt = tf.train.Checkpoint(transformer=transformer,\n",
    "                               optimizer=optimizer)\n",
    "\n",
    "        ckpt_manager = tf.train.CheckpointManager(ckpt, checkpoint_path, max_to_keep=5)\n",
    "\n",
    "        if ckpt_manager.latest_checkpoint:\n",
    "            ckpt.restore(ckpt_manager.latest_checkpoint)\n",
    "            print('Latest checkpoint restored!!')\n",
    "\n",
    "    def __call__(self, sentence, max_length=20):\n",
    "    # input sentence is portuguese, hence adding the start and end token\n",
    "        data=[]\n",
    "        dataes=[]\n",
    "        datapt=[]\n",
    "        dataes.append(sentence)\n",
    "        data.append(dataes)\n",
    "        data.append(datapt)\n",
    "        sentence=self.embed.tokenize(data)\n",
    "        encoder_input = sentence[0]\n",
    "        print(encoder_input)\n",
    "        # as the target is english, the first token to the transformer should be the\n",
    "        # english start token.\n",
    "        start = sentence[0][0][0][tf.newaxis]#WE USE THE IDS IN spanish BECAUSE THEY ARE THE SAME IN PT\n",
    "        end = sentence[0][0][-1][tf.newaxis] #there could be some padding!\n",
    "        print(start)\n",
    "        print(end)\n",
    "        # `tf.TensorArray` is required here (instead of a python list) so that the\n",
    "        # dynamic-loop can be traced by `tf.function`.\n",
    "        output_array = tf.TensorArray(dtype=tf.int64, size=0, dynamic_size=True)\n",
    "        output_array = output_array.write(0, start)\n",
    "\n",
    "        for i in tf.range(max_length):\n",
    "            output = tf.transpose(output_array.stack())\n",
    "            predictions, _ = self.transformer([encoder_input, output], training=False)\n",
    "\n",
    "          # select the last token from the seq_len dimension\n",
    "            predictions = predictions[:, -1:, :]  # (batch_size, 1, vocab_size)\n",
    "\n",
    "            predicted_id = tf.argmax(predictions, axis=-1)\n",
    "\n",
    "          # concatentate the predicted_id to the output which is given to the decoder\n",
    "          # as its input.\n",
    "            output_array = output_array.write(i+1, predicted_id[0])\n",
    "\n",
    "            if predicted_id == end:\n",
    "                break\n",
    "\n",
    "        output = tf.transpose(output_array.stack())\n",
    "    # output.shape (1, tokens)\n",
    "        data=[]\n",
    "        data.append([[2]])\n",
    "        data.append(output[tf.newaxis][0])\n",
    "        print(data)\n",
    "        text = (self.embed.detokenize(data)[1].numpy())[0]\n",
    "        print(text)# shape: ()\n",
    "\n",
    "        # `tf.function` prevents us from using the attention_weights that were\n",
    "        # calculated on the last iteration of the loop. So recalculate them outside\n",
    "        # the loop.\n",
    "        _, attention_weights = self.transformer([encoder_input, output[:,:-1]], training=False)\n",
    "\n",
    "        return text, attention_weights"
   ]
  },
  {
   "cell_type": "code",
   "execution_count": 13,
   "metadata": {},
   "outputs": [
    {
     "name": "stdout",
     "output_type": "stream",
     "text": [
      "Latest checkpoint restored!!\n"
     ]
    }
   ],
   "source": [
    "Embed=Embedding()\n",
    "translator=Translator(Embed,transformer)"
   ]
  },
  {
   "cell_type": "code",
   "execution_count": 14,
   "metadata": {},
   "outputs": [],
   "source": [
    "def print_translation(sentence, text, ground_truth):\n",
    "    print(f'{\"Input:\":15s}: {sentence}')\n",
    "    print(f'{\"Prediction\":15s}: {text.decode(\"utf-8\")}')\n",
    "    print(f'{\"Ground truth\":15s}: {ground_truth}')"
   ]
  },
  {
   "cell_type": "code",
   "execution_count": 31,
   "metadata": {},
   "outputs": [],
   "source": [
    "sentence = \"No entiendo como esta pasando esto\"\n",
    "ground_truth = \"oi, como vai.\""
   ]
  },
  {
   "cell_type": "code",
   "execution_count": 32,
   "metadata": {},
   "outputs": [
    {
     "name": "stdout",
     "output_type": "stream",
     "text": [
      "tf.Tensor([[   2    1 4461  208  219 1185  216    3]], shape=(1, 8), dtype=int64)\n",
      "tf.Tensor([2], shape=(1,), dtype=int64)\n",
      "tf.Tensor([3], shape=(1,), dtype=int64)\n",
      "[[[2]], <tf.Tensor: shape=(1, 8), dtype=int64, numpy=array([[  2, 127, 117,  83, 114, 268,  16,   3]], dtype=int64)>]\n",
      "b'[START] mas n\\xc3\\xa3o \\xc3\\xa9 um pouco . [END]'\n",
      "Input:         : No entiendo como esta pasando esto\n",
      "Prediction     : [START] mas não é um pouco . [END]\n",
      "Ground truth   : oi, como vai.\n"
     ]
    }
   ],
   "source": [
    "translated_text, attention_weights = translator((sentence))\n",
    "print_translation(sentence, translated_text, ground_truth)"
   ]
  },
  {
   "cell_type": "code",
   "execution_count": null,
   "metadata": {},
   "outputs": [],
   "source": []
  },
  {
   "cell_type": "code",
   "execution_count": null,
   "metadata": {},
   "outputs": [],
   "source": []
  }
 ],
 "metadata": {
  "kernelspec": {
   "display_name": "Python 3 (ipykernel)",
   "language": "python",
   "name": "python3"
  },
  "language_info": {
   "codemirror_mode": {
    "name": "ipython",
    "version": 3
   },
   "file_extension": ".py",
   "mimetype": "text/x-python",
   "name": "python",
   "nbconvert_exporter": "python",
   "pygments_lexer": "ipython3",
   "version": "3.9.13"
  }
 },
 "nbformat": 4,
 "nbformat_minor": 4
}
